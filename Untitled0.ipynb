{
  "nbformat": 4,
  "nbformat_minor": 0,
  "metadata": {
    "colab": {
      "provenance": [],
      "authorship_tag": "ABX9TyO/508DK2sqUITGOQ6oKVai",
      "include_colab_link": true
    },
    "kernelspec": {
      "name": "python3",
      "display_name": "Python 3"
    },
    "language_info": {
      "name": "python"
    }
  },
  "cells": [
    {
      "cell_type": "markdown",
      "metadata": {
        "id": "view-in-github",
        "colab_type": "text"
      },
      "source": [
        "<a href=\"https://colab.research.google.com/github/mansigarg29/Basics-of-Python/blob/main/Untitled0.ipynb\" target=\"_parent\"><img src=\"https://colab.research.google.com/assets/colab-badge.svg\" alt=\"Open In Colab\"/></a>"
      ]
    },
    {
      "cell_type": "markdown",
      "source": [
        "1. Discuss string slicing and provide examples.\n",
        "\n",
        "Answer-\n",
        "\n",
        "Slicing in string are used to extract the substring from the large given string, that helps in manupluating the data. there are mainly three index of sliecing that are [start: stop: step] each have specific role in slicing. Start is the starting value of the substring, stop is the ending value of substring and step is interval between the substring."
      ],
      "metadata": {
        "id": "H8JmYjyLmXoI"
      }
    },
    {
      "cell_type": "code",
      "execution_count": 1,
      "metadata": {
        "colab": {
          "base_uri": "https://localhost:8080/",
          "height": 36
        },
        "id": "AtZwCbrQl7I3",
        "outputId": "cc18e498-a599-41db-a150-a4748c812011"
      },
      "outputs": [
        {
          "output_type": "execute_result",
          "data": {
            "text/plain": [
              "' am busy'"
            ],
            "application/vnd.google.colaboratory.intrinsic+json": {
              "type": "string"
            }
          },
          "metadata": {},
          "execution_count": 1
        }
      ],
      "source": [
        "#Ex of Slicing\n",
        "string = \"I am busy today\"\n",
        "string[1:9]"
      ]
    },
    {
      "cell_type": "code",
      "source": [
        "#Ex of Slicing\n",
        "string = \"I am busy today\"\n",
        "string[::-1]           #in this type of slicing the string is executed from the revese."
      ],
      "metadata": {
        "colab": {
          "base_uri": "https://localhost:8080/",
          "height": 36
        },
        "id": "4A4-2RA2mgB5",
        "outputId": "030f0af9-0042-4921-8e9d-b9bc7ce32d62"
      },
      "execution_count": 2,
      "outputs": [
        {
          "output_type": "execute_result",
          "data": {
            "text/plain": [
              "'yadot ysub ma I'"
            ],
            "application/vnd.google.colaboratory.intrinsic+json": {
              "type": "string"
            }
          },
          "metadata": {},
          "execution_count": 2
        }
      ]
    },
    {
      "cell_type": "code",
      "source": [
        "#Ex of Slicing\n",
        "string = \"I am busy today\"\n",
        "string[5:]             #if any substring is empthy by default it take till the end value."
      ],
      "metadata": {
        "colab": {
          "base_uri": "https://localhost:8080/",
          "height": 36
        },
        "id": "PkcPB6FhnEFg",
        "outputId": "33119303-aae7-40bf-a907-af6f6a68eede"
      },
      "execution_count": 3,
      "outputs": [
        {
          "output_type": "execute_result",
          "data": {
            "text/plain": [
              "'busy today'"
            ],
            "application/vnd.google.colaboratory.intrinsic+json": {
              "type": "string"
            }
          },
          "metadata": {},
          "execution_count": 3
        }
      ]
    },
    {
      "cell_type": "code",
      "source": [
        "#Ex of Slicing\n",
        "string = \"I am busy today\"\n",
        "string [::2]            #in this type of string the string is executed with the interval of 2"
      ],
      "metadata": {
        "colab": {
          "base_uri": "https://localhost:8080/",
          "height": 36
        },
        "id": "jWO8OJSanJRb",
        "outputId": "b499615c-9f25-43e5-a370-f72d3b919079"
      },
      "execution_count": 4,
      "outputs": [
        {
          "output_type": "execute_result",
          "data": {
            "text/plain": [
              "'Ia uytdy'"
            ],
            "application/vnd.google.colaboratory.intrinsic+json": {
              "type": "string"
            }
          },
          "metadata": {},
          "execution_count": 4
        }
      ]
    },
    {
      "cell_type": "markdown",
      "source": [
        "2. Explain the key features of lists in Python\n",
        "\n",
        "Answer-\n",
        "\n",
        "List have multiple features some of them are:\n",
        "\n",
        "a. List can store Heterogeneous data, means anything can be added to the list wheather it can be string, float, inter, and list inside the list. For ex- [1,1.25, 2.3, 3+5j, \"Ram\", [5,7,9]]\n",
        "\n",
        "b. The date in the list have specific index and it is in the ordered form, means each element added in the list have proper index value, that can be removed, modified or added further if required.\n",
        "ex- list = [1,1.25, 2.3, 3+5j, \"Ram\", [5,7,9]]\n",
        "    list[2]\n",
        "    Output: 2.3\n",
        "\n",
        "c. The elements in the list are mutable means the elements can be changed, or delete later if not in use in future. The elements in the list  can be flexible to use for the uncertain variables.\n",
        "ex- list = [1,1.25, 2.3, 3+5j, \"Ram\", [5,7,9]]\n",
        "    list [1] = 5.36\n",
        "Output: [1,5.36, 2.3, 3+5j, 'Ram', [5,7,9]]\n",
        "\n",
        "d. Maximum numbers of built in functions support the list means it can be more user friendly that have multiple functions like append(), remove(), pop(), del(), len(), clear(), reverse(), range(), sort().\n",
        "\n",
        "e. Negative Indexing means in list negative indexing can be perform in the list, this is useful case when the length of the list is not defined and want to modify from the end.\n",
        "ex- list = [1,1.25, 2.3, 3+5j, \"Ram\", [5,7,9]]\n",
        "    list[-2]\n",
        "    output: 'Ram'\n",
        "    "
      ],
      "metadata": {
        "id": "y68fttwEnN6h"
      }
    },
    {
      "cell_type": "markdown",
      "source": [
        "3. Describe how to access, modify, and delete elements in a list with examples\n",
        "\n",
        "Answer-\n",
        "\n",
        "List is most adaptable element in the python as it can be access, modify and delete any value from the data.\n"
      ],
      "metadata": {
        "id": "CZPXAGPEoAuL"
      }
    },
    {
      "cell_type": "code",
      "source": [
        "#Access of list\n",
        "list_con = [10, 15, 15.5, 100, 90.6,500]\n",
        "list_con [0]         #The value that is accessed or present in the 0th index is 10"
      ],
      "metadata": {
        "colab": {
          "base_uri": "https://localhost:8080/"
        },
        "id": "4Vxs7LSDoNsd",
        "outputId": "fb93bfec-c3eb-4b43-a426-60e14da3e6b5"
      },
      "execution_count": 5,
      "outputs": [
        {
          "output_type": "execute_result",
          "data": {
            "text/plain": [
              "10"
            ]
          },
          "metadata": {},
          "execution_count": 5
        }
      ]
    },
    {
      "cell_type": "code",
      "source": [
        "#Modification of list\n",
        "list_con = [10, 15, 15.5, 100, 90.6,500]\n",
        "list_con [2] = 20                #In place of 2nd index that is 15.5 is modified with 20"
      ],
      "metadata": {
        "id": "egxwwAVRn4Iy"
      },
      "execution_count": 6,
      "outputs": []
    },
    {
      "cell_type": "code",
      "source": [
        "list_con"
      ],
      "metadata": {
        "colab": {
          "base_uri": "https://localhost:8080/"
        },
        "id": "PHAZAOnroZYr",
        "outputId": "6de9764f-8bb9-42ef-c938-ba349ddda519"
      },
      "execution_count": 7,
      "outputs": [
        {
          "output_type": "execute_result",
          "data": {
            "text/plain": [
              "[10, 15, 20, 100, 90.6, 500]"
            ]
          },
          "metadata": {},
          "execution_count": 7
        }
      ]
    },
    {
      "cell_type": "markdown",
      "source": [
        "4. Compare and contrast tuples and lists with examples.\n",
        "\n",
        "Answer-\n",
        "\n",
        "Tuples and List both are used to collect data in python, but there are many key difference in both like tuple are immutable whereas list can be mutate or modified. The syntax of both the data structure is different as in the list the data is stored in square bracket [], and in tuples the data is stored in parentheses (). The type of data stored in list is the proccessed data that required updation in future like, employee salary, employee contact number. The type of data stored in tuples are fixed data that does not required updation in future like employee ID, employee employee date of joining. Both lsit and tuples can be iterated."
      ],
      "metadata": {
        "id": "70Oe-SXFofv9"
      }
    },
    {
      "cell_type": "code",
      "source": [
        "#Ex of List\n",
        "Grocery_list = [\"milk\", \"bread\", \"butter\", \"flour\", \"Biscuit\"]\n",
        "type (Grocery_list)"
      ],
      "metadata": {
        "colab": {
          "base_uri": "https://localhost:8080/"
        },
        "id": "lNF8gVBIoiL_",
        "outputId": "b5a9d999-99ad-4f19-86bb-d1dde8d27348"
      },
      "execution_count": 8,
      "outputs": [
        {
          "output_type": "execute_result",
          "data": {
            "text/plain": [
              "list"
            ]
          },
          "metadata": {},
          "execution_count": 8
        }
      ]
    },
    {
      "cell_type": "code",
      "source": [
        "Grocery_list = [\"milk\", \"bread\", \"butter\", \"flour\", \"Biscuit\"]\n",
        "Grocery_list.append (\"Rice\")                   #here in the list rice is added to the list.\n",
        "Grocery_list"
      ],
      "metadata": {
        "colab": {
          "base_uri": "https://localhost:8080/"
        },
        "id": "Zp-lOXfcoj-Q",
        "outputId": "91c01e27-71cd-4197-d0a9-38ef9fafd0a9"
      },
      "execution_count": 9,
      "outputs": [
        {
          "output_type": "execute_result",
          "data": {
            "text/plain": [
              "['milk', 'bread', 'butter', 'flour', 'Biscuit', 'Rice']"
            ]
          },
          "metadata": {},
          "execution_count": 9
        }
      ]
    },
    {
      "cell_type": "code",
      "source": [
        "Grocery_list = (\"milk\", \"bread\", \"butter\", \"flour\", \"Biscuit\")\n",
        "type (Grocery_list)"
      ],
      "metadata": {
        "colab": {
          "base_uri": "https://localhost:8080/"
        },
        "id": "RzVFMZ7kol0v",
        "outputId": "37fadc68-db92-43bd-abc2-5c60cf7b416a"
      },
      "execution_count": 10,
      "outputs": [
        {
          "output_type": "execute_result",
          "data": {
            "text/plain": [
              "tuple"
            ]
          },
          "metadata": {},
          "execution_count": 10
        }
      ]
    },
    {
      "cell_type": "code",
      "source": [
        "Grocery_list = (\"milk\", \"bread\", \"butter\", \"flour\", \"Biscuit\")\n",
        "Grocery_list.append (\"Rice\")\n",
        "Grocery_list                                        #here rice cannot added as it is immutable."
      ],
      "metadata": {
        "colab": {
          "base_uri": "https://localhost:8080/",
          "height": 176
        },
        "id": "UVSko8UsooJs",
        "outputId": "ad8006c5-9757-4a12-a976-f3d2820db272"
      },
      "execution_count": 11,
      "outputs": [
        {
          "output_type": "error",
          "ename": "AttributeError",
          "evalue": "'tuple' object has no attribute 'append'",
          "traceback": [
            "\u001b[0;31m---------------------------------------------------------------------------\u001b[0m",
            "\u001b[0;31mAttributeError\u001b[0m                            Traceback (most recent call last)",
            "\u001b[0;32m<ipython-input-11-a51ec4fb341e>\u001b[0m in \u001b[0;36m<cell line: 2>\u001b[0;34m()\u001b[0m\n\u001b[1;32m      1\u001b[0m \u001b[0mGrocery_list\u001b[0m \u001b[0;34m=\u001b[0m \u001b[0;34m(\u001b[0m\u001b[0;34m\"milk\"\u001b[0m\u001b[0;34m,\u001b[0m \u001b[0;34m\"bread\"\u001b[0m\u001b[0;34m,\u001b[0m \u001b[0;34m\"butter\"\u001b[0m\u001b[0;34m,\u001b[0m \u001b[0;34m\"flour\"\u001b[0m\u001b[0;34m,\u001b[0m \u001b[0;34m\"Biscuit\"\u001b[0m\u001b[0;34m)\u001b[0m\u001b[0;34m\u001b[0m\u001b[0;34m\u001b[0m\u001b[0m\n\u001b[0;32m----> 2\u001b[0;31m \u001b[0mGrocery_list\u001b[0m\u001b[0;34m.\u001b[0m\u001b[0mappend\u001b[0m \u001b[0;34m(\u001b[0m\u001b[0;34m\"Rice\"\u001b[0m\u001b[0;34m)\u001b[0m\u001b[0;34m\u001b[0m\u001b[0;34m\u001b[0m\u001b[0m\n\u001b[0m\u001b[1;32m      3\u001b[0m \u001b[0mGrocery_list\u001b[0m                                        \u001b[0;31m#here rice cannot added as it is immutable.\u001b[0m\u001b[0;34m\u001b[0m\u001b[0;34m\u001b[0m\u001b[0m\n",
            "\u001b[0;31mAttributeError\u001b[0m: 'tuple' object has no attribute 'append'"
          ]
        }
      ]
    },
    {
      "cell_type": "markdown",
      "source": [
        "5. Describe the key features of sets and provide examples of their use.\n",
        "\n",
        "Answer-\n",
        "\n",
        "Sets are unordered and unique collection of elements.\n",
        "Some of the key features of sets are:\n",
        "a. Mutable elements - Sets are mutable in nature that can be updated, access, modified and remove or delete later.\n",
        "b. Unordered - Set elements are not in order, they can be executed differently from the way it is originally stored in the set.\n",
        "c. Unique element - Sets do not takes the duplicate data, if there is anything repeated in the set it will only execute one time.\n",
        "d. No indexing - In set indexing cannot be performed as there is no fix place for any element in the set.\n",
        "\n",
        "Set operations:\n",
        "\n",
        "There are four set operations that are:\n",
        "\n",
        "a. Union - It combines elements from two sets excluding duplicate.\n",
        "\n",
        "b. Intersection - It only executes common elements between sets.\n",
        "\n",
        "c. Difference - It returns the element that is present in first set and not in the second.\n",
        "\n",
        "d. Symmetric difference - It returns the elements that are present in either of the sets but not in both set."
      ],
      "metadata": {
        "id": "Su5JNiEJoyst"
      }
    },
    {
      "cell_type": "code",
      "source": [
        "#Ex of set\n",
        "Seat_no = {6,2,3,5,7}\n",
        "type (Seat_no)"
      ],
      "metadata": {
        "colab": {
          "base_uri": "https://localhost:8080/"
        },
        "id": "9mT9sz9No_xH",
        "outputId": "e2617461-71de-4bd0-d459-2eff95d07472"
      },
      "execution_count": 12,
      "outputs": [
        {
          "output_type": "execute_result",
          "data": {
            "text/plain": [
              "set"
            ]
          },
          "metadata": {},
          "execution_count": 12
        }
      ]
    },
    {
      "cell_type": "code",
      "source": [
        "Seat_no = {6,2,2,3,3,5,7,7,7}\n",
        "Seat_no                      #it only exexute unique and unordered elements\n"
      ],
      "metadata": {
        "colab": {
          "base_uri": "https://localhost:8080/"
        },
        "id": "HhEcxg14pDtF",
        "outputId": "ad40009c-9d81-44ec-b2a0-f33fe1ee9533"
      },
      "execution_count": 13,
      "outputs": [
        {
          "output_type": "execute_result",
          "data": {
            "text/plain": [
              "{2, 3, 5, 6, 7}"
            ]
          },
          "metadata": {},
          "execution_count": 13
        }
      ]
    },
    {
      "cell_type": "code",
      "source": [
        "#adding element to set\n",
        "Seat_no = {6,2,3,5,7}\n",
        "Seat_no.add (4)\n",
        "Seat_no"
      ],
      "metadata": {
        "colab": {
          "base_uri": "https://localhost:8080/"
        },
        "id": "P7iLSdVcpGcR",
        "outputId": "2ad02e42-f09d-4830-ea34-907704aec6f9"
      },
      "execution_count": 14,
      "outputs": [
        {
          "output_type": "execute_result",
          "data": {
            "text/plain": [
              "{2, 3, 4, 5, 6, 7}"
            ]
          },
          "metadata": {},
          "execution_count": 14
        }
      ]
    },
    {
      "cell_type": "code",
      "source": [
        "#removing element to set\n",
        "Seat_no = {6,2,3,5,7}\n",
        "Seat_no.remove (3)\n",
        "Seat_no"
      ],
      "metadata": {
        "colab": {
          "base_uri": "https://localhost:8080/"
        },
        "id": "jBsQUQ-tpIum",
        "outputId": "dceff602-d84d-43fb-fa2b-d4cfec63464e"
      },
      "execution_count": 17,
      "outputs": [
        {
          "output_type": "execute_result",
          "data": {
            "text/plain": [
              "{2, 5, 6, 7}"
            ]
          },
          "metadata": {},
          "execution_count": 17
        }
      ]
    },
    {
      "cell_type": "code",
      "source": [
        "#pop element to set\n",
        "Seat_no = {6,2,3,5,7}\n",
        "Seat_no.pop ()            #pop will remove any random element from the set.\n",
        "Seat_no"
      ],
      "metadata": {
        "colab": {
          "base_uri": "https://localhost:8080/"
        },
        "id": "zeCT2HSbpKkJ",
        "outputId": "39b831fb-6e5e-47cc-8399-81597bd48380"
      },
      "execution_count": 16,
      "outputs": [
        {
          "output_type": "execute_result",
          "data": {
            "text/plain": [
              "{3, 5, 6, 7}"
            ]
          },
          "metadata": {},
          "execution_count": 16
        }
      ]
    },
    {
      "cell_type": "code",
      "source": [
        "#Ex Union\n",
        "Travel1 = {\"packing\", \"shopping\", \"hiking\"}\n",
        "Travel2 = {\"shopping\", \"beach\", \"sunscreen \"}\n",
        "Travel1 | Travel2"
      ],
      "metadata": {
        "colab": {
          "base_uri": "https://localhost:8080/"
        },
        "id": "guhsdvRApMi1",
        "outputId": "07660cce-caf3-4ee9-f101-521e995f36d4"
      },
      "execution_count": 18,
      "outputs": [
        {
          "output_type": "execute_result",
          "data": {
            "text/plain": [
              "{'beach', 'hiking', 'packing', 'shopping', 'sunscreen '}"
            ]
          },
          "metadata": {},
          "execution_count": 18
        }
      ]
    },
    {
      "cell_type": "code",
      "source": [
        "#Ex Intersection\n",
        "Travel1 = {\"packing\", \"shopping\", \"hiking\"}\n",
        "Travel2 = {\"shopping\", \"beach\", \"sunscreen \"}\n",
        "Travel1 & Travel2"
      ],
      "metadata": {
        "colab": {
          "base_uri": "https://localhost:8080/"
        },
        "id": "xfETlhDKpaII",
        "outputId": "33463eb3-ccd1-43e4-932c-202fcbe42029"
      },
      "execution_count": 19,
      "outputs": [
        {
          "output_type": "execute_result",
          "data": {
            "text/plain": [
              "{'shopping'}"
            ]
          },
          "metadata": {},
          "execution_count": 19
        }
      ]
    },
    {
      "cell_type": "code",
      "source": [
        "#Ex Difference\n",
        "Travel1 = {\"packing\", \"shopping\", \"hiking\"}\n",
        "Travel2 = {\"shopping\", \"beach\", \"sunscreen \"}\n",
        "Travel1 - Travel2"
      ],
      "metadata": {
        "colab": {
          "base_uri": "https://localhost:8080/"
        },
        "id": "TEnRl7JQpcVO",
        "outputId": "47dc39fd-22ce-4b67-945b-def84b5eacea"
      },
      "execution_count": 20,
      "outputs": [
        {
          "output_type": "execute_result",
          "data": {
            "text/plain": [
              "{'hiking', 'packing'}"
            ]
          },
          "metadata": {},
          "execution_count": 20
        }
      ]
    },
    {
      "cell_type": "code",
      "source": [
        "#Ex Symmetric difference\n",
        "Travel1 = {\"packing\", \"shopping\", \"hiking\"}\n",
        "Travel2 = {\"shopping\", \"beach\", \"sunscreen \"}\n",
        "Travel1 ^ Travel2"
      ],
      "metadata": {
        "colab": {
          "base_uri": "https://localhost:8080/"
        },
        "id": "6FaNqFnVpeTV",
        "outputId": "8bdf661b-5a29-4a57-a965-ccab0382baca"
      },
      "execution_count": 21,
      "outputs": [
        {
          "output_type": "execute_result",
          "data": {
            "text/plain": [
              "{'beach', 'hiking', 'packing', 'sunscreen '}"
            ]
          },
          "metadata": {},
          "execution_count": 21
        }
      ]
    },
    {
      "cell_type": "markdown",
      "source": [
        "6. Discuss the use cases of tuples and sets in Python programming.\n",
        "\n",
        "Answer-"
      ],
      "metadata": {
        "id": "fWe4BDVhpjM7"
      }
    },
    {
      "cell_type": "code",
      "source": [
        "#used case of tuple\n",
        "employee = (2, 32, 5.3, \"employye name\")\n",
        "employee.index (5.3)"
      ],
      "metadata": {
        "colab": {
          "base_uri": "https://localhost:8080/"
        },
        "id": "2FbDs94WpmkP",
        "outputId": "59b2c27d-d3a6-486f-9b1b-8ff3f35e7129"
      },
      "execution_count": 22,
      "outputs": [
        {
          "output_type": "execute_result",
          "data": {
            "text/plain": [
              "2"
            ]
          },
          "metadata": {},
          "execution_count": 22
        }
      ]
    },
    {
      "cell_type": "code",
      "source": [
        "employee = (\"employye name\",2, 32, 5.3, \"employye name\")\n",
        "employee.count (\"employye name\")                 #it shows the number of times items comes in the tuple"
      ],
      "metadata": {
        "colab": {
          "base_uri": "https://localhost:8080/"
        },
        "id": "VYSW6dZlprKz",
        "outputId": "1d8fa861-aa61-45eb-f9af-c951e51a9d94"
      },
      "execution_count": 23,
      "outputs": [
        {
          "output_type": "execute_result",
          "data": {
            "text/plain": [
              "2"
            ]
          },
          "metadata": {},
          "execution_count": 23
        }
      ]
    },
    {
      "cell_type": "code",
      "source": [
        "employee = (2, 32, 5.3, \"employye name\")\n",
        "for i in employee:\n",
        "    print (i)"
      ],
      "metadata": {
        "colab": {
          "base_uri": "https://localhost:8080/"
        },
        "id": "I7RcJCjzptlq",
        "outputId": "2211d413-5822-47ab-cc4f-5ac2720853ac"
      },
      "execution_count": 24,
      "outputs": [
        {
          "output_type": "stream",
          "name": "stdout",
          "text": [
            "2\n",
            "32\n",
            "5.3\n",
            "employye name\n"
          ]
        }
      ]
    },
    {
      "cell_type": "code",
      "source": [
        "#used case of set\n",
        "employee = {2, 32, 5.3, \"employye name\"}\n",
        "type (employee)"
      ],
      "metadata": {
        "colab": {
          "base_uri": "https://localhost:8080/"
        },
        "id": "f6Ng7UGFpxVJ",
        "outputId": "85a96d9e-48da-4f99-8e90-72f5def4c4cc"
      },
      "execution_count": 25,
      "outputs": [
        {
          "output_type": "execute_result",
          "data": {
            "text/plain": [
              "set"
            ]
          },
          "metadata": {},
          "execution_count": 25
        }
      ]
    },
    {
      "cell_type": "code",
      "source": [
        "employee = {2, 32, 5.3, \"employye name\"}\n",
        "employee = list(employee)"
      ],
      "metadata": {
        "id": "U_rBc656pzTB"
      },
      "execution_count": 26,
      "outputs": []
    },
    {
      "cell_type": "code",
      "source": [
        "employee                      #convert set into list"
      ],
      "metadata": {
        "colab": {
          "base_uri": "https://localhost:8080/"
        },
        "id": "ih4EEdzpp1C3",
        "outputId": "37706536-aea4-4607-dc5a-2f8c08aa5246"
      },
      "execution_count": 27,
      "outputs": [
        {
          "output_type": "execute_result",
          "data": {
            "text/plain": [
              "[32, 2, 5.3, 'employye name']"
            ]
          },
          "metadata": {},
          "execution_count": 27
        }
      ]
    },
    {
      "cell_type": "code",
      "source": [
        "type (employee)"
      ],
      "metadata": {
        "colab": {
          "base_uri": "https://localhost:8080/"
        },
        "id": "qndTJ6KZp3SO",
        "outputId": "11ad62aa-f7d1-4e41-d281-f344874b3064"
      },
      "execution_count": 28,
      "outputs": [
        {
          "output_type": "execute_result",
          "data": {
            "text/plain": [
              "list"
            ]
          },
          "metadata": {},
          "execution_count": 28
        }
      ]
    },
    {
      "cell_type": "code",
      "source": [
        "s = {1,2,3,3,4,5, (5.6,7)}\n",
        "for i in s:\n",
        "    print (i)"
      ],
      "metadata": {
        "colab": {
          "base_uri": "https://localhost:8080/"
        },
        "id": "yNTmLgrtp5qO",
        "outputId": "bd73c024-8cd7-4fc8-f7ff-74325c3068fc"
      },
      "execution_count": 29,
      "outputs": [
        {
          "output_type": "stream",
          "name": "stdout",
          "text": [
            "1\n",
            "2\n",
            "3\n",
            "4\n",
            "5\n",
            "(5.6, 7)\n"
          ]
        }
      ]
    },
    {
      "cell_type": "markdown",
      "source": [
        "7. Describe how to add, modify, and delete items in a dictionary with examples.\n",
        "\n",
        "Answer-\n",
        "\n",
        "Dictionary is a collection of key value paired that are unique and immutable. You can add, modify and delete the item in dictionary."
      ],
      "metadata": {
        "id": "FJQbk47HqAeR"
      }
    },
    {
      "cell_type": "code",
      "source": [
        "#Ex of addttion in Dictionary\n",
        "dic = {\"students\": [\"Ram\", \"Roni\", \"Renu\"], \"students ID\": [25, 30, 35], \"grade\": [100, 200, 300]}\n",
        "print (dic)"
      ],
      "metadata": {
        "colab": {
          "base_uri": "https://localhost:8080/"
        },
        "id": "4CIwzWAJqCZl",
        "outputId": "609fb4d9-aca8-4b72-d0cc-b04fb6f6f4e2"
      },
      "execution_count": 30,
      "outputs": [
        {
          "output_type": "stream",
          "name": "stdout",
          "text": [
            "{'students': ['Ram', 'Roni', 'Renu'], 'students ID': [25, 30, 35], 'grade': [100, 200, 300]}\n"
          ]
        }
      ]
    },
    {
      "cell_type": "code",
      "source": [
        "dic = {\"students\": [\"Ram\", \"Roni\", \"Renu\"], \"students ID\": [25, 30, 35], \"grade\": [100, 200, 300]}\n",
        "dic [\"address\"] = [\"Indore\", \"Bangalore\", \"Mumbai\"]\n",
        "dic"
      ],
      "metadata": {
        "colab": {
          "base_uri": "https://localhost:8080/"
        },
        "id": "R792vcciqEAN",
        "outputId": "f18ab6fe-6321-478c-8af3-4caa5be047d7"
      },
      "execution_count": 31,
      "outputs": [
        {
          "output_type": "execute_result",
          "data": {
            "text/plain": [
              "{'students': ['Ram', 'Roni', 'Renu'],\n",
              " 'students ID': [25, 30, 35],\n",
              " 'grade': [100, 200, 300],\n",
              " 'address': ['Indore', 'Bangalore', 'Mumbai']}"
            ]
          },
          "metadata": {},
          "execution_count": 31
        }
      ]
    },
    {
      "cell_type": "code",
      "source": [
        "#Ex of Modification in Dictionary\n",
        "dic = {\"students\": [\"Ram\", \"Roni\", \"Renu\"], \"students ID\": [25, 30, 35], \"grade\": [100, 200, 300]}\n",
        "dic [\"students\"][1] = (\"jaya\")\n",
        "dic"
      ],
      "metadata": {
        "colab": {
          "base_uri": "https://localhost:8080/"
        },
        "id": "wEP6r6T2qGBQ",
        "outputId": "0efb48e1-d51c-4348-bb1c-27ff25a622f4"
      },
      "execution_count": 32,
      "outputs": [
        {
          "output_type": "execute_result",
          "data": {
            "text/plain": [
              "{'students': ['Ram', 'jaya', 'Renu'],\n",
              " 'students ID': [25, 30, 35],\n",
              " 'grade': [100, 200, 300]}"
            ]
          },
          "metadata": {},
          "execution_count": 32
        }
      ]
    },
    {
      "cell_type": "code",
      "source": [
        "#Ex of delete in Dictionary\n",
        "dic = {\"students\": [\"Ram\", \"Roni\", \"Renu\"], \"students ID\": [25, 30, 35], \"grade\": [100, 200, 300]}\n",
        "del dic [\"students ID\"]\n",
        "dic"
      ],
      "metadata": {
        "colab": {
          "base_uri": "https://localhost:8080/"
        },
        "id": "3Z6lOxLXqIA4",
        "outputId": "f9b218f4-4816-43fa-fdad-d79c48afcb13"
      },
      "execution_count": 33,
      "outputs": [
        {
          "output_type": "execute_result",
          "data": {
            "text/plain": [
              "{'students': ['Ram', 'Roni', 'Renu'], 'grade': [100, 200, 300]}"
            ]
          },
          "metadata": {},
          "execution_count": 33
        }
      ]
    },
    {
      "cell_type": "markdown",
      "source": [
        "8. Discuss the importance of dictionary keys being immutable and provide examples\n",
        "\n",
        "Answer-\n",
        "\n",
        "Dictionary is a data structure that stores as key value pair, the keys are immutable, here are some of the importance of dictionary in python:\n",
        "\n",
        "a. It provides unique values - As dictionary are unordered and do not repeat the value while executing the program.\n",
        "\n",
        "b. Hash value - Dictionary is immutable in nature so it can be easily stored the tuple data inside the dictionary items.\n",
        "\n",
        "c. Effecient for permanent records - As dictionary are immutable so it efficient wit the large database, to lookup the data."
      ],
      "metadata": {
        "id": "ARPOrb3oqP7W"
      }
    },
    {
      "cell_type": "code",
      "source": [
        "#Ex of immutable dictionary keys\n",
        "#List inside the dictionary, as a key, it will be unhasable\n",
        "dic = {[1,\"hello\",2.5]: \"World\"}"
      ],
      "metadata": {
        "colab": {
          "base_uri": "https://localhost:8080/",
          "height": 176
        },
        "id": "Iy9EuSPRqSX4",
        "outputId": "973cae17-3eb0-49e1-9578-c61a78ab09b6"
      },
      "execution_count": 34,
      "outputs": [
        {
          "output_type": "error",
          "ename": "TypeError",
          "evalue": "unhashable type: 'list'",
          "traceback": [
            "\u001b[0;31m---------------------------------------------------------------------------\u001b[0m",
            "\u001b[0;31mTypeError\u001b[0m                                 Traceback (most recent call last)",
            "\u001b[0;32m<ipython-input-34-583d3464212f>\u001b[0m in \u001b[0;36m<cell line: 3>\u001b[0;34m()\u001b[0m\n\u001b[1;32m      1\u001b[0m \u001b[0;31m#Ex of immutable dictionary keys\u001b[0m\u001b[0;34m\u001b[0m\u001b[0;34m\u001b[0m\u001b[0m\n\u001b[1;32m      2\u001b[0m \u001b[0;31m#List inside the dictionary, as a key, it will be unhasable\u001b[0m\u001b[0;34m\u001b[0m\u001b[0;34m\u001b[0m\u001b[0m\n\u001b[0;32m----> 3\u001b[0;31m \u001b[0mdic\u001b[0m \u001b[0;34m=\u001b[0m \u001b[0;34m{\u001b[0m\u001b[0;34m[\u001b[0m\u001b[0;36m1\u001b[0m\u001b[0;34m,\u001b[0m\u001b[0;34m\"hello\"\u001b[0m\u001b[0;34m,\u001b[0m\u001b[0;36m2.5\u001b[0m\u001b[0;34m]\u001b[0m\u001b[0;34m:\u001b[0m \u001b[0;34m\"World\"\u001b[0m\u001b[0;34m}\u001b[0m\u001b[0;34m\u001b[0m\u001b[0;34m\u001b[0m\u001b[0m\n\u001b[0m",
            "\u001b[0;31mTypeError\u001b[0m: unhashable type: 'list'"
          ]
        }
      ]
    },
    {
      "cell_type": "code",
      "source": [
        "#Ex of immutable dictionary keys\n",
        "#Set inside the dictionary, as a key, it will be unhasable\n",
        "dic = {{1,\"hello\",2.5}: \"World\"}"
      ],
      "metadata": {
        "colab": {
          "base_uri": "https://localhost:8080/",
          "height": 176
        },
        "id": "22Eadt9TqT8X",
        "outputId": "86666644-cc93-462f-bcda-efc92029d645"
      },
      "execution_count": 35,
      "outputs": [
        {
          "output_type": "error",
          "ename": "TypeError",
          "evalue": "unhashable type: 'set'",
          "traceback": [
            "\u001b[0;31m---------------------------------------------------------------------------\u001b[0m",
            "\u001b[0;31mTypeError\u001b[0m                                 Traceback (most recent call last)",
            "\u001b[0;32m<ipython-input-35-04c548192d0d>\u001b[0m in \u001b[0;36m<cell line: 3>\u001b[0;34m()\u001b[0m\n\u001b[1;32m      1\u001b[0m \u001b[0;31m#Ex of immutable dictionary keys\u001b[0m\u001b[0;34m\u001b[0m\u001b[0;34m\u001b[0m\u001b[0m\n\u001b[1;32m      2\u001b[0m \u001b[0;31m#Set inside the dictionary, as a key, it will be unhasable\u001b[0m\u001b[0;34m\u001b[0m\u001b[0;34m\u001b[0m\u001b[0m\n\u001b[0;32m----> 3\u001b[0;31m \u001b[0mdic\u001b[0m \u001b[0;34m=\u001b[0m \u001b[0;34m{\u001b[0m\u001b[0;34m{\u001b[0m\u001b[0;36m1\u001b[0m\u001b[0;34m,\u001b[0m\u001b[0;34m\"hello\"\u001b[0m\u001b[0;34m,\u001b[0m\u001b[0;36m2.5\u001b[0m\u001b[0;34m}\u001b[0m\u001b[0;34m:\u001b[0m \u001b[0;34m\"World\"\u001b[0m\u001b[0;34m}\u001b[0m\u001b[0;34m\u001b[0m\u001b[0;34m\u001b[0m\u001b[0m\n\u001b[0m",
            "\u001b[0;31mTypeError\u001b[0m: unhashable type: 'set'"
          ]
        }
      ]
    },
    {
      "cell_type": "code",
      "source": [
        "#Ex of immutable dictionary keys\n",
        "#Dictionary inside the dictionary, as a key, it will be unhasable\n",
        "dic = {{\"I m happy\":\"hello\"}: \"World\"}"
      ],
      "metadata": {
        "colab": {
          "base_uri": "https://localhost:8080/",
          "height": 176
        },
        "id": "fYQjb34rqWK0",
        "outputId": "2aa60ae5-b954-4632-f8de-9cb69ade3eae"
      },
      "execution_count": 36,
      "outputs": [
        {
          "output_type": "error",
          "ename": "TypeError",
          "evalue": "unhashable type: 'dict'",
          "traceback": [
            "\u001b[0;31m---------------------------------------------------------------------------\u001b[0m",
            "\u001b[0;31mTypeError\u001b[0m                                 Traceback (most recent call last)",
            "\u001b[0;32m<ipython-input-36-13ed4b4d405e>\u001b[0m in \u001b[0;36m<cell line: 3>\u001b[0;34m()\u001b[0m\n\u001b[1;32m      1\u001b[0m \u001b[0;31m#Ex of immutable dictionary keys\u001b[0m\u001b[0;34m\u001b[0m\u001b[0;34m\u001b[0m\u001b[0m\n\u001b[1;32m      2\u001b[0m \u001b[0;31m#Dictionary inside the dictionary, as a key, it will be unhasable\u001b[0m\u001b[0;34m\u001b[0m\u001b[0;34m\u001b[0m\u001b[0m\n\u001b[0;32m----> 3\u001b[0;31m \u001b[0mdic\u001b[0m \u001b[0;34m=\u001b[0m \u001b[0;34m{\u001b[0m\u001b[0;34m{\u001b[0m\u001b[0;34m\"I m happy\"\u001b[0m\u001b[0;34m:\u001b[0m\u001b[0;34m\"hello\"\u001b[0m\u001b[0;34m}\u001b[0m\u001b[0;34m:\u001b[0m \u001b[0;34m\"World\"\u001b[0m\u001b[0;34m}\u001b[0m\u001b[0;34m\u001b[0m\u001b[0;34m\u001b[0m\u001b[0m\n\u001b[0m",
            "\u001b[0;31mTypeError\u001b[0m: unhashable type: 'dict'"
          ]
        }
      ]
    },
    {
      "cell_type": "code",
      "source": [
        "#Ex of immutable dictionary keys\n",
        "#Tuple inside the dictionary, as a key, it will be Hasable and it will give output\n",
        "dic = {(1,\"hello\",2.5): \"World\"}\n",
        "dic"
      ],
      "metadata": {
        "colab": {
          "base_uri": "https://localhost:8080/"
        },
        "id": "iR0-m7RVqYF0",
        "outputId": "ba85c0a9-280a-4727-b73d-87e539992328"
      },
      "execution_count": 37,
      "outputs": [
        {
          "output_type": "execute_result",
          "data": {
            "text/plain": [
              "{(1, 'hello', 2.5): 'World'}"
            ]
          },
          "metadata": {},
          "execution_count": 37
        }
      ]
    }
  ]
}